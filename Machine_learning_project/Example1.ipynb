{
 "cells": [
  {
   "cell_type": "code",
   "execution_count": 1,
   "id": "e2801f91",
   "metadata": {
    "ExecuteTime": {
     "end_time": "2024-04-29T19:47:37.479880Z",
     "start_time": "2024-04-29T19:47:37.466654Z"
    }
   },
   "outputs": [],
   "source": [
    "import numpy as np # linear algebra\n",
    "import pandas as pd # data processing, CSV file I/O (e.g. pd.read_csv)\n",
    "import seaborn as sns # Data visualisation \n",
    "import matplotlib.pyplot as plt # Data visualisation "
   ]
  },
  {
   "cell_type": "code",
   "execution_count": 2,
   "id": "dac6f82f",
   "metadata": {
    "ExecuteTime": {
     "end_time": "2024-04-29T19:47:37.554183Z",
     "start_time": "2024-04-29T19:47:37.486100Z"
    }
   },
   "outputs": [],
   "source": [
    "# Getting the dataset to \"dataset\" variable\n",
    "\n",
    "dataset = pd.read_csv(\"BDParkinson_Prediction.csv\") # the iris dataset is now a Pandas DataFrame"
   ]
  },
  {
   "cell_type": "code",
   "execution_count": null,
   "id": "f3b9f360",
   "metadata": {
    "ExecuteTime": {
     "end_time": "2024-04-29T19:47:37.607802Z",
     "start_time": "2024-04-29T19:47:37.569143Z"
    }
   },
   "outputs": [
    {
     "data": {
      "text/html": [
       "<div>\n",
       "<style scoped>\n",
       "    .dataframe tbody tr th:only-of-type {\n",
       "        vertical-align: middle;\n",
       "    }\n",
       "\n",
       "    .dataframe tbody tr th {\n",
       "        vertical-align: top;\n",
       "    }\n",
       "\n",
       "    .dataframe thead th {\n",
       "        text-align: right;\n",
       "    }\n",
       "</style>\n",
       "<table border=\"1\" class=\"dataframe\">\n",
       "  <thead>\n",
       "    <tr style=\"text-align: right;\">\n",
       "      <th></th>\n",
       "      <th>VAR1</th>\n",
       "      <th>VAR2</th>\n",
       "      <th>VAR3</th>\n",
       "      <th>VAR4</th>\n",
       "      <th>VAR5</th>\n",
       "      <th>VAR6</th>\n",
       "      <th>CLASS</th>\n",
       "    </tr>\n",
       "  </thead>\n",
       "  <tbody>\n",
       "    <tr>\n",
       "      <th>0</th>\n",
       "      <td>0.624731</td>\n",
       "      <td>0.135424</td>\n",
       "      <td>0.0</td>\n",
       "      <td>0.675282</td>\n",
       "      <td>0.182203</td>\n",
       "      <td>0.962960</td>\n",
       "      <td>Class_1</td>\n",
       "    </tr>\n",
       "    <tr>\n",
       "      <th>1</th>\n",
       "      <td>0.647223</td>\n",
       "      <td>0.136211</td>\n",
       "      <td>0.0</td>\n",
       "      <td>0.679511</td>\n",
       "      <td>0.195903</td>\n",
       "      <td>0.987387</td>\n",
       "      <td>Class_1</td>\n",
       "    </tr>\n",
       "    <tr>\n",
       "      <th>2</th>\n",
       "      <td>0.706352</td>\n",
       "      <td>0.187593</td>\n",
       "      <td>0.0</td>\n",
       "      <td>0.632989</td>\n",
       "      <td>0.244884</td>\n",
       "      <td>0.991182</td>\n",
       "      <td>Class_1</td>\n",
       "    </tr>\n",
       "    <tr>\n",
       "      <th>3</th>\n",
       "      <td>0.680291</td>\n",
       "      <td>0.192076</td>\n",
       "      <td>0.0</td>\n",
       "      <td>0.651786</td>\n",
       "      <td>0.233528</td>\n",
       "      <td>0.991857</td>\n",
       "      <td>Class_1</td>\n",
       "    </tr>\n",
       "    <tr>\n",
       "      <th>4</th>\n",
       "      <td>0.660104</td>\n",
       "      <td>0.161131</td>\n",
       "      <td>0.0</td>\n",
       "      <td>0.677162</td>\n",
       "      <td>0.209531</td>\n",
       "      <td>0.991066</td>\n",
       "      <td>Class_1</td>\n",
       "    </tr>\n",
       "  </tbody>\n",
       "</table>\n",
       "</div>"
      ],
      "text/plain": [
       "       VAR1      VAR2  VAR3      VAR4      VAR5      VAR6    CLASS\n",
       "0  0.624731  0.135424   0.0  0.675282  0.182203  0.962960  Class_1\n",
       "1  0.647223  0.136211   0.0  0.679511  0.195903  0.987387  Class_1\n",
       "2  0.706352  0.187593   0.0  0.632989  0.244884  0.991182  Class_1\n",
       "3  0.680291  0.192076   0.0  0.651786  0.233528  0.991857  Class_1\n",
       "4  0.660104  0.161131   0.0  0.677162  0.209531  0.991066  Class_1"
      ]
     },
     "execution_count": 3,
     "metadata": {},
     "output_type": "execute_result"
    }
   ],
   "source": [
    "\n",
    "\n",
    "dataset.head()"
   ]
  },
  {
   "cell_type": "code",
   "execution_count": 4,
   "id": "56ba6e96",
   "metadata": {
    "ExecuteTime": {
     "end_time": "2024-04-29T19:47:38.431561Z",
     "start_time": "2024-04-29T19:47:37.609612Z"
    },
    "scrolled": true
   },
   "outputs": [
    {
     "ename": "TypeError",
     "evalue": "FacetGrid.__init__() got an unexpected keyword argument 'size'",
     "output_type": "error",
     "traceback": [
      "\u001b[0;31m---------------------------------------------------------------------------\u001b[0m",
      "\u001b[0;31mTypeError\u001b[0m                                 Traceback (most recent call last)",
      "Cell \u001b[0;32mIn[4], line 1\u001b[0m\n\u001b[0;32m----> 1\u001b[0m sns\u001b[38;5;241m.\u001b[39mFacetGrid(dataset,hue\u001b[38;5;241m=\u001b[39m\u001b[38;5;124m'\u001b[39m\u001b[38;5;124mCLASS\u001b[39m\u001b[38;5;124m'\u001b[39m,size\u001b[38;5;241m=\u001b[39m\u001b[38;5;241m5\u001b[39m)\u001b[38;5;241m.\u001b[39mmap(plt\u001b[38;5;241m.\u001b[39mscatter,\u001b[38;5;124m'\u001b[39m\u001b[38;5;124mVAR1\u001b[39m\u001b[38;5;124m'\u001b[39m,\u001b[38;5;124m'\u001b[39m\u001b[38;5;124mVAR2\u001b[39m\u001b[38;5;124m'\u001b[39m)\u001b[38;5;241m.\u001b[39madd_legend()\n\u001b[1;32m      2\u001b[0m plt\u001b[38;5;241m.\u001b[39mshow()\n",
      "\u001b[0;31mTypeError\u001b[0m: FacetGrid.__init__() got an unexpected keyword argument 'size'"
     ]
    }
   ],
   "source": [
    "sns.FacetGrid(dataset,hue='CLASS',size=5).map(plt.scatter,'VAR1','VAR2').add_legend()\n",
    "plt.show()"
   ]
  },
  {
   "cell_type": "code",
   "execution_count": null,
   "id": "37bdebfe",
   "metadata": {},
   "outputs": [],
   "source": [
    "sns.FacetGrid(dataset,hue='CLASS',size=5).map(plt.scatter,'VAR1','VAR3').add_legend()\n",
    "plt.show()"
   ]
  },
  {
   "cell_type": "code",
   "execution_count": null,
   "id": "18772fb1",
   "metadata": {},
   "outputs": [],
   "source": [
    "sns.FacetGrid(dataset,hue='CLASS',size=5).map(plt.scatter,'VAR1','VAR4').add_legend()\n",
    "plt.show()"
   ]
  },
  {
   "cell_type": "code",
   "execution_count": null,
   "id": "e5cda9b3",
   "metadata": {},
   "outputs": [],
   "source": [
    "sns.FacetGrid(dataset,hue='CLASS',size=5).map(plt.scatter,'VAR1','VAR5').add_legend()\n",
    "plt.show()"
   ]
  },
  {
   "cell_type": "code",
   "execution_count": null,
   "id": "c9a5bb78",
   "metadata": {},
   "outputs": [],
   "source": [
    "sns.FacetGrid(dataset,hue='CLASS',size=5).map(plt.scatter,'VAR1','VAR6').add_legend()\n",
    "plt.show()"
   ]
  },
  {
   "cell_type": "code",
   "execution_count": null,
   "id": "0fb9d226",
   "metadata": {},
   "outputs": [],
   "source": [
    "sns.FacetGrid(dataset,hue='CLASS',size=5).map(plt.scatter,'VAR2','VAR3').add_legend()\n",
    "plt.show()"
   ]
  },
  {
   "cell_type": "code",
   "execution_count": null,
   "id": "a6f7f175",
   "metadata": {},
   "outputs": [],
   "source": [
    "sns.FacetGrid(dataset,hue='CLASS',size=5).map(plt.scatter,'VAR2','VAR4').add_legend()\n",
    "plt.show()"
   ]
  },
  {
   "cell_type": "code",
   "execution_count": null,
   "id": "baacea29",
   "metadata": {},
   "outputs": [],
   "source": [
    "sns.FacetGrid(dataset,hue='CLASS',size=5).map(plt.scatter,'VAR2','VAR5').add_legend()\n",
    "plt.show()"
   ]
  },
  {
   "cell_type": "code",
   "execution_count": null,
   "id": "a6035f3c",
   "metadata": {},
   "outputs": [],
   "source": [
    "sns.FacetGrid(dataset,hue='CLASS',size=5).map(plt.scatter,'VAR2','VAR6').add_legend()\n",
    "plt.show()"
   ]
  },
  {
   "cell_type": "code",
   "execution_count": null,
   "id": "0ccc9188",
   "metadata": {},
   "outputs": [],
   "source": [
    "sns.FacetGrid(dataset,hue='CLASS',size=5).map(plt.scatter,'VAR3','VAR4').add_legend()\n",
    "plt.show()"
   ]
  },
  {
   "cell_type": "code",
   "execution_count": null,
   "id": "321d0b44",
   "metadata": {},
   "outputs": [],
   "source": [
    "sns.FacetGrid(dataset,hue='CLASS',size=5).map(plt.scatter,'VAR3','VAR5').add_legend()\n",
    "plt.show()"
   ]
  },
  {
   "cell_type": "code",
   "execution_count": null,
   "id": "0441f037",
   "metadata": {},
   "outputs": [],
   "source": [
    "sns.FacetGrid(dataset,hue='CLASS',size=5).map(plt.scatter,'VAR3','VAR6').add_legend()\n",
    "plt.show()"
   ]
  },
  {
   "cell_type": "code",
   "execution_count": null,
   "id": "bfc94510",
   "metadata": {},
   "outputs": [],
   "source": [
    "sns.FacetGrid(dataset,hue='CLASS',size=5).map(plt.scatter,'VAR4','VAR5').add_legend()\n",
    "plt.show()"
   ]
  },
  {
   "cell_type": "code",
   "execution_count": null,
   "id": "b5e09e93",
   "metadata": {},
   "outputs": [],
   "source": [
    "sns.FacetGrid(dataset,hue='CLASS',size=5).map(plt.scatter,'VAR4','VAR6').add_legend()\n",
    "plt.show()"
   ]
  },
  {
   "cell_type": "code",
   "execution_count": null,
   "id": "09ce62c7",
   "metadata": {},
   "outputs": [],
   "source": [
    "sns.FacetGrid(dataset,hue='CLASS',size=5).map(plt.scatter,'VAR5','VAR6').add_legend()\n",
    "plt.show()"
   ]
  },
  {
   "cell_type": "code",
   "execution_count": null,
   "id": "5c51bd9a",
   "metadata": {},
   "outputs": [],
   "source": [
    "dataset.info()"
   ]
  },
  {
   "cell_type": "code",
   "execution_count": null,
   "id": "b00cd2ad",
   "metadata": {},
   "outputs": [],
   "source": [
    "dataset['CLASS'].value_counts().plot.pie(explode=[0.1,0.1,0.1,0.1],autopct='%1.1f%%',shadow=True,figsize=(10,8))\n",
    "plt.show()"
   ]
  },
  {
   "cell_type": "code",
   "execution_count": null,
   "id": "cc67b21e",
   "metadata": {},
   "outputs": [],
   "source": [
    "data = dataset.sample(frac=0.95, random_state=786).reset_index(drop=True)\n",
    "data_unseen = dataset.drop(data.index).reset_index(drop=True)"
   ]
  },
  {
   "cell_type": "code",
   "execution_count": null,
   "id": "670407ed",
   "metadata": {},
   "outputs": [],
   "source": [
    "print('Data for Modeling: ' + str(data.shape))\n",
    "print('Unseen Data For Predictions ' + str(data_unseen.shape))"
   ]
  },
  {
   "cell_type": "code",
   "execution_count": null,
   "id": "00b0d3a7",
   "metadata": {},
   "outputs": [],
   "source": [
    "data['CLASS'].value_counts()"
   ]
  },
  {
   "cell_type": "code",
   "execution_count": null,
   "id": "45ea6451",
   "metadata": {},
   "outputs": [],
   "source": [
    "\n",
    "from pycaret.classification import *"
   ]
  },
  {
   "cell_type": "code",
   "execution_count": null,
   "id": "ac688657",
   "metadata": {},
   "outputs": [],
   "source": [
    "\n",
    "exp = setup(data = data, target = 'CLASS', session_id=77 )\n"
   ]
  },
  {
   "cell_type": "code",
   "execution_count": null,
   "id": "04354425",
   "metadata": {},
   "outputs": [],
   "source": [
    "\n",
    "compare_models()"
   ]
  },
  {
   "cell_type": "code",
   "execution_count": null,
   "id": "907a032c",
   "metadata": {},
   "outputs": [],
   "source": [
    "lda_model = create_model('lda',covariance_estimator=None, n_components=None,\n",
    "                           priors=None, shrinkage=None, solver='svd',\n",
    "                           store_covariance=False, tol=0.0001)"
   ]
  },
  {
   "cell_type": "code",
   "execution_count": null,
   "id": "1d2b255d",
   "metadata": {},
   "outputs": [],
   "source": [
    "lda_tuned = tune_model(lda_model)"
   ]
  },
  {
   "cell_type": "code",
   "execution_count": null,
   "id": "8d319e8e",
   "metadata": {},
   "outputs": [],
   "source": [
    "plot_model(lda_tuned, plot = 'auc')"
   ]
  },
  {
   "cell_type": "code",
   "execution_count": null,
   "id": "d288cb80",
   "metadata": {},
   "outputs": [],
   "source": [
    "plot_model(lda_tuned, plot = 'confusion_matrix')"
   ]
  },
  {
   "cell_type": "code",
   "execution_count": null,
   "id": "f9b26351",
   "metadata": {},
   "outputs": [],
   "source": [
    "predict_model(lda_tuned);"
   ]
  },
  {
   "cell_type": "code",
   "execution_count": null,
   "id": "d7edea7a",
   "metadata": {},
   "outputs": [],
   "source": [
    "new_prediction = predict_model(lda_tuned, data=data_unseen)"
   ]
  },
  {
   "cell_type": "code",
   "execution_count": null,
   "id": "2dc5e6c5",
   "metadata": {},
   "outputs": [],
   "source": [
    "new_prediction"
   ]
  },
  {
   "cell_type": "code",
   "execution_count": null,
   "id": "8f490cd7",
   "metadata": {},
   "outputs": [],
   "source": []
  }
 ],
 "metadata": {
  "kernelspec": {
   "display_name": "Python 3 (ipykernel)",
   "language": "python",
   "name": "python3"
  },
  "language_info": {
   "codemirror_mode": {
    "name": "ipython",
    "version": 3
   },
   "file_extension": ".py",
   "mimetype": "text/x-python",
   "name": "python",
   "nbconvert_exporter": "python",
   "pygments_lexer": "ipython3",
   "version": "3.9.7"
  }
 },
 "nbformat": 4,
 "nbformat_minor": 5
}
